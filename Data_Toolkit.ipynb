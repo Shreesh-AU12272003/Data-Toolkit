{
  "nbformat": 4,
  "nbformat_minor": 0,
  "metadata": {
    "colab": {
      "provenance": []
    },
    "kernelspec": {
      "name": "python3",
      "display_name": "Python 3"
    },
    "language_info": {
      "name": "python"
    }
  },
  "cells": [
    {
      "cell_type": "markdown",
      "source": [
        "###THEORY QUESTIONS"
      ],
      "metadata": {
        "id": "ZE1Du6yQSc3p"
      }
    },
    {
      "cell_type": "markdown",
      "source": [
        "###1. What is NumPy, and why is it widely used in Python?\n",
        "> NumPy is a Python library for numerical and scientific computing. It provides support for large multidimensional arrays, matrices, and a collection of high-level mathematical functions. It is widely used because it is faster and more memory-efficient than Python lists.\n",
        "\n",
        "###2. How does broadcasting work in NumPy?\n",
        "> Broadcasting is a feature in NumPy that allows operations on arrays of different shapes without explicitly replicating data, making computations more memory and time efficient.\n",
        "\n",
        "###3. What is a Pandas DataFrame?\n",
        "> A DataFrame in Pandas is a 2-dimensional, size-mutable, and heterogeneous tabular data structure with labeled axes (rows and columns), similar to a spreadsheet or SQL table.\n",
        "\n",
        "###4. Explain the use of the groupby() method in Pandas.\n",
        "> groupby() in Pandas is used to group data based on one or more keys and apply aggregation functions like sum, mean, etc., for easier data analysis.\n",
        "\n",
        "###5. Why is Seaborn preferred for statistical visualizations?\n",
        "> Seaborn provides beautiful, high-level interface for creating attractive and informative statistical graphics with less code compared to Matplotlib.\n",
        "\n",
        "###6. What are the differences between NumPy arrays and Python lists?\n",
        "> NumPy arrays are faster and consume less memory.\n",
        "\n",
        "> Arrays support element-wise operations, unlike lists.\n",
        "\n",
        "> Arrays are homogeneous; lists can hold mixed types.\n",
        "\n",
        "###7. What is a heatmap, and when should it be used?\n",
        "> A heatmap is a graphical representation of data where individual values are represented using colors. It is used to visualize correlation matrices, missing data patterns, or density distributions.\n",
        "\n",
        "###8. What does the term “vectorized operation” mean in NumPy?\n",
        "> A vectorized operation means performing an operation on entire arrays without writing explicit loops, making the code faster and more readable.\n",
        "\n",
        "###9. How does Matplotlib differ from Plotly?\n",
        "> Matplotlib: Static, traditional 2D plotting library.\n",
        "\n",
        "Plotly: Interactive and dynamic visualizations, with zoom, hover, and clickable features.\n",
        "\n",
        "###10. What is the significance of hierarchical indexing in Pandas?\n",
        "> Hierarchical indexing allows multiple (two or more) index levels on an axis, which makes it easier to work with higher-dimensional data in a 2D table.\n",
        "\n",
        "###11. What is the role of Seaborn’s pairplot() function?\n",
        "> pairplot() automatically plots pairwise relationships in a dataset and supports color grouping by category, making it easy to explore relationships between multiple variables.\n",
        "\n",
        "###12. What is the purpose of the describe() function in Pandas?\n",
        "> describe() provides summary statistics (mean, median, min, max, standard deviation) of numeric columns, helping quickly understand the dataset.\n",
        "\n",
        "###13. Why is handling missing data important in Pandas?\n",
        "> Handling missing data prevents errors in data analysis, ensures model accuracy, and maintains dataset integrity by avoiding incorrect conclusions.\n",
        "\n",
        "###14. What are the benefits of using Plotly for data visualization?\n",
        "> Interactive charts.\n",
        "\n",
        "> Easy sharing via web.\n",
        "\n",
        "> Beautiful and customizable visualizations.\n",
        "\n",
        "> Supports 3D plots and animations.\n",
        "\n",
        "###15. How does NumPy handle multidimensional arrays?\n",
        "> NumPy uses ndarray objects which can have multiple dimensions (2D, 3D, etc.), allowing efficient storage and manipulation of large datasets.\n",
        "\n",
        "###16. What is the role of Bokeh in data visualization?\n",
        "> Bokeh is a Python library for creating interactive, browser-based visualizations that can handle large streaming datasets and dashboards.\n",
        "\n",
        "###17. Explain the difference between apply() and map() in Pandas.\n",
        "> map() is used for element-wise transformations on a Series.\n",
        "\n",
        ">apply() can be used on both Series and DataFrames and allows applying custom functions along rows or columns.\n",
        "\n",
        "###18. What are some advanced features of NumPy?\n",
        "> Broadcasting.\n",
        "\n",
        "> Vectorization.\n",
        "\n",
        "> Masked arrays.\n",
        "\n",
        "> Structured arrays.\n",
        "\n",
        "> Linear algebra operations.\n",
        "\n",
        "###19. How does Pandas simplify time series analysis?\n",
        "> Pandas offers built-in functions for date parsing, resampling, shifting, and rolling windows, making time series analysis easy and efficient.\n",
        "\n",
        "###20. What is the role of a pivot table in Pandas?\n",
        "> Pivot tables summarize data by aggregating it based on categorical fields, similar to pivot tables in Excel.\n",
        "\n",
        "###21. Why is NumPy’s array slicing faster than Python’s list slicing?\n",
        "> NumPy arrays are stored in contiguous memory blocks, allowing faster access and operations without the overhead of dynamic typing.\n",
        "\n",
        "###22. What are some common use cases for Seaborn?\n",
        "> Heatmaps.\n",
        "\n",
        "> Correlation plots.\n",
        "\n",
        "> Distribution plots (histograms, KDE).\n",
        "\n",
        "> Categorical plots (boxplots, violin plots).\n",
        "\n",
        "> Regression analysis."
      ],
      "metadata": {
        "id": "Q28-2stjSiki"
      }
    },
    {
      "cell_type": "markdown",
      "source": [
        "###PRACTICAL QUESTIONS"
      ],
      "metadata": {
        "id": "dxV6I3daUBef"
      }
    },
    {
      "cell_type": "markdown",
      "source": [
        "###1. How do you create a 2D NumPy array and calculate the sum of each row?"
      ],
      "metadata": {
        "id": "3qQAcoQAUF6v"
      }
    },
    {
      "cell_type": "code",
      "source": [
        "import numpy as np\n",
        "\n",
        "array_2d = np.array([[1, 2, 3], [4, 5, 6]])\n",
        "row_sum = np.sum(array_2d, axis=1)\n",
        "print(\"Sum of each row:\", row_sum)"
      ],
      "metadata": {
        "id": "Dz_Jte7FU2j-"
      },
      "execution_count": null,
      "outputs": []
    },
    {
      "cell_type": "markdown",
      "source": [
        "###2. Write a Pandas script to find the mean of a specific column in a DataFrame."
      ],
      "metadata": {
        "id": "lUFxRie-U4nv"
      }
    },
    {
      "cell_type": "code",
      "source": [
        "import pandas as pd\n",
        "\n",
        "data = {'Marks': [85, 90, 78, 92]}\n",
        "df = pd.DataFrame(data)\n",
        "mean_value = df['Marks'].mean()\n",
        "print(\"Mean of Marks column:\", mean_value)"
      ],
      "metadata": {
        "id": "iXMszPzvVGK2"
      },
      "execution_count": null,
      "outputs": []
    },
    {
      "cell_type": "markdown",
      "source": [
        "###3. Create a scatter plot using Matplotlib."
      ],
      "metadata": {
        "id": "kt2ANGRVVHWO"
      }
    },
    {
      "cell_type": "code",
      "source": [
        "import matplotlib.pyplot as plt\n",
        "\n",
        "x = [1, 2, 3, 4]\n",
        "y = [10, 20, 25, 30]\n",
        "\n",
        "plt.scatter(x, y)\n",
        "plt.title('Scatter Plot Example')\n",
        "plt.xlabel('X-axis')\n",
        "plt.ylabel('Y-axis')\n",
        "plt.show()"
      ],
      "metadata": {
        "id": "MAsSAItAVKnt"
      },
      "execution_count": null,
      "outputs": []
    },
    {
      "cell_type": "markdown",
      "source": [
        "###4. How do you calculate the correlation matrix using Seaborn and visualize it with a heatmap?"
      ],
      "metadata": {
        "id": "uuAeFRHCVMNd"
      }
    },
    {
      "cell_type": "code",
      "source": [
        "import seaborn as sns\n",
        "import pandas as pd\n",
        "\n",
        "df = pd.DataFrame({\n",
        "    'A': [1, 2, 3, 4],\n",
        "    'B': [4, 3, 2, 1],\n",
        "    'C': [5, 6, 7, 8]\n",
        "})\n",
        "\n",
        "corr = df.corr()\n",
        "sns.heatmap(corr, annot=True, cmap='coolwarm')\n",
        "plt.show()"
      ],
      "metadata": {
        "id": "f5AQT5tiVPlm"
      },
      "execution_count": null,
      "outputs": []
    },
    {
      "cell_type": "markdown",
      "source": [
        "###5. Generate a bar plot using Plotly."
      ],
      "metadata": {
        "id": "pCNyeBugVUb5"
      }
    },
    {
      "cell_type": "code",
      "source": [
        "import plotly.express as px\n",
        "\n",
        "data = {'Fruits': ['Apple', 'Banana', 'Mango'], 'Count': [10, 20, 15]}\n",
        "fig = px.bar(data, x='Fruits', y='Count', title='Fruit Count')\n",
        "fig.show()"
      ],
      "metadata": {
        "id": "7HLt8pE6VXFN"
      },
      "execution_count": null,
      "outputs": []
    },
    {
      "cell_type": "markdown",
      "source": [
        "###6. Create a DataFrame and add a new column based on an existing column."
      ],
      "metadata": {
        "id": "3Tzw5D-8VYud"
      }
    },
    {
      "cell_type": "code",
      "source": [
        "import pandas as pd\n",
        "\n",
        "df = pd.DataFrame({'Marks': [80, 90, 70]})\n",
        "df['Grade'] = ['A' if mark > 75 else 'B' for mark in df['Marks']]\n",
        "print(df)"
      ],
      "metadata": {
        "id": "TawGZ_JQVbC-"
      },
      "execution_count": null,
      "outputs": []
    },
    {
      "cell_type": "markdown",
      "source": [
        "###7. Write a program to perform element-wise multiplication of two NumPy arrays."
      ],
      "metadata": {
        "id": "W2zF-d1PVdUN"
      }
    },
    {
      "cell_type": "code",
      "source": [
        "import numpy as np\n",
        "\n",
        "a = np.array([1, 2, 3])\n",
        "b = np.array([4, 5, 6])\n",
        "result = a * b\n",
        "print(\"Element-wise multiplication:\", result)"
      ],
      "metadata": {
        "id": "ELlbTh7XVfy2"
      },
      "execution_count": null,
      "outputs": []
    },
    {
      "cell_type": "markdown",
      "source": [
        "###8. Create a line plot with multiple lines using Matplotlib."
      ],
      "metadata": {
        "id": "mjb-A0MhVi7g"
      }
    },
    {
      "cell_type": "code",
      "source": [
        "import matplotlib.pyplot as plt\n",
        "\n",
        "x = [1, 2, 3, 4]\n",
        "y1 = [10, 20, 25, 30]\n",
        "y2 = [5, 15, 20, 25]\n",
        "\n",
        "plt.plot(x, y1, label='Line 1')\n",
        "plt.plot(x, y2, label='Line 2')\n",
        "plt.title('Multiple Line Plot')\n",
        "plt.xlabel('X-axis')\n",
        "plt.ylabel('Y-axis')\n",
        "plt.legend()\n",
        "plt.show()"
      ],
      "metadata": {
        "id": "5SB2yKCiVo2l"
      },
      "execution_count": null,
      "outputs": []
    },
    {
      "cell_type": "markdown",
      "source": [
        "###9. Generate a Pandas DataFrame and filter rows where a column value is greater than a threshold."
      ],
      "metadata": {
        "id": "Oy04hFQlVq89"
      }
    },
    {
      "cell_type": "code",
      "source": [
        "import pandas as pd\n",
        "\n",
        "df = pd.DataFrame({'Marks': [65, 85, 75, 90]})\n",
        "filtered_df = df[df['Marks'] > 80]\n",
        "print(filtered_df)"
      ],
      "metadata": {
        "id": "W-b2sbw7Vtd9"
      },
      "execution_count": null,
      "outputs": []
    },
    {
      "cell_type": "markdown",
      "source": [
        "###10. Create a histogram using Seaborn to visualize a distribution."
      ],
      "metadata": {
        "id": "EbCHBtWWVvHu"
      }
    },
    {
      "cell_type": "code",
      "source": [
        "import seaborn as sns\n",
        "import matplotlib.pyplot as plt\n",
        "\n",
        "data = [10, 20, 20, 30, 30, 30, 40, 50]\n",
        "sns.histplot(data, kde=True)\n",
        "plt.title('Histogram with KDE')\n",
        "plt.show()"
      ],
      "metadata": {
        "id": "1Skv_wEUVyCt"
      },
      "execution_count": null,
      "outputs": []
    },
    {
      "cell_type": "markdown",
      "source": [
        "###11. Perform matrix multiplication using NumPy."
      ],
      "metadata": {
        "id": "0KRmLDbYV0Wl"
      }
    },
    {
      "cell_type": "code",
      "source": [
        "import numpy as np\n",
        "\n",
        "a = np.array([[1, 2], [3, 4]])\n",
        "b = np.array([[5, 6], [7, 8]])\n",
        "result = np.matmul(a, b)\n",
        "print(\"Matrix multiplication result:\\n\", result)"
      ],
      "metadata": {
        "id": "XBLUCzEaV51W"
      },
      "execution_count": null,
      "outputs": []
    },
    {
      "cell_type": "markdown",
      "source": [
        "###12. Use Pandas to load a CSV file and display its first 5 rows."
      ],
      "metadata": {
        "id": "K9F_i67iV9z8"
      }
    },
    {
      "cell_type": "code",
      "source": [
        "import pandas as pd\n",
        "\n",
        "df = pd.read_csv('your_file.csv')\n",
        "print(df.head())"
      ],
      "metadata": {
        "id": "K87T_uyZV_Uk"
      },
      "execution_count": null,
      "outputs": []
    },
    {
      "cell_type": "markdown",
      "source": [
        "###13. Create a 3D scatter plot using Plotly."
      ],
      "metadata": {
        "id": "UIyobfoaWAQ1"
      }
    },
    {
      "cell_type": "code",
      "source": [
        "import plotly.express as px\n",
        "import pandas as pd\n",
        "\n",
        "df = pd.DataFrame({\n",
        "    'x': [1, 2, 3, 4],\n",
        "    'y': [10, 20, 25, 30],\n",
        "    'z': [5, 15, 20, 25]\n",
        "})\n",
        "\n",
        "fig = px.scatter_3d(df, x='x', y='y', z='z', title='3D Scatter Plot')\n",
        "fig.show()"
      ],
      "metadata": {
        "id": "qzzHuNsHWC-c"
      },
      "execution_count": null,
      "outputs": []
    }
  ]
}